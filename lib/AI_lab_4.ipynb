{
  "nbformat": 4,
  "nbformat_minor": 0,
  "metadata": {
    "colab": {
      "provenance": []
    },
    "kernelspec": {
      "name": "python3",
      "display_name": "Python 3"
    },
    "language_info": {
      "name": "python"
    }
  },
  "cells": [
    {
      "cell_type": "code",
      "execution_count": 3,
      "metadata": {
        "colab": {
          "base_uri": "https://localhost:8080/"
        },
        "id": "znqnAzKA4xFz",
        "outputId": "86ac567a-64cf-4ffe-ae8e-b844faae849d"
      },
      "outputs": [
        {
          "output_type": "stream",
          "name": "stdout",
          "text": [
            "BFS Path: [(0, 0), (0, 1), (1, 1), (2, 1), (2, 2), (3, 2), (4, 2), (4, 3), (4, 4)]\n",
            "DFS Path: [(0, 0), (0, 1), (1, 1), (2, 1), (2, 2), (3, 2), (4, 2), (4, 3), (4, 4)]\n",
            "A* Path: [(0, 0), (0, 1), (0, 2), (0, 3), (0, 4), (1, 4), (2, 4), (3, 4), (4, 4)]\n"
          ]
        }
      ],
      "source": [
        "import heapq\n",
        "from collections import deque\n",
        "\n",
        "def read_cube(filename):\n",
        "    with open(filename, 'r') as f:\n",
        "        cube = [list(map(int, line.strip().split())) for line in f]\n",
        "    return cube\n",
        "\n",
        "def is_valid(x, y, cube, visited):\n",
        "    return 0 <= x < len(cube) and 0 <= y < len(cube[0]) and cube[x][y] != 1 and (x, y) not in visited\n",
        "\n",
        "def bfs(cube):\n",
        "    rows, cols = len(cube), len(cube[0])\n",
        "    start, goal = (0, 0), (rows - 1, cols - 1)\n",
        "    queue = deque([(start, [start])])\n",
        "    visited = set()\n",
        "\n",
        "    while queue:\n",
        "        (x, y), path = queue.popleft()\n",
        "        if (x, y) == goal:\n",
        "            return path\n",
        "\n",
        "        for dx, dy in [(-1, 0), (1, 0), (0, -1), (0, 1)]:\n",
        "            nx, ny = x + dx, y + dy\n",
        "            if is_valid(nx, ny, cube, visited):\n",
        "                visited.add((nx, ny))\n",
        "                queue.append(((nx, ny), path + [(nx, ny)]))\n",
        "\n",
        "    return -1\n",
        "\n",
        "def dfs(cube):\n",
        "    rows, cols = len(cube), len(cube[0])\n",
        "    start, goal = (0, 0), (rows - 1, cols - 1)\n",
        "    stack = [(start, [start])]\n",
        "    visited = set()\n",
        "\n",
        "    while stack:\n",
        "        (x, y), path = stack.pop()\n",
        "        if (x, y) == goal:\n",
        "            return path\n",
        "\n",
        "        for dx, dy in [(-1, 0), (1, 0), (0, -1), (0, 1)]:\n",
        "            nx, ny = x + dx, y + dy\n",
        "            if is_valid(nx, ny, cube, visited):\n",
        "                visited.add((nx, ny))\n",
        "                stack.append(((nx, ny), path + [(nx, ny)]))\n",
        "\n",
        "    return -1\n",
        "\n",
        "def heuristic(a, b):\n",
        "    return abs(a[0] - b[0]) + abs(a[1] - b[1])\n",
        "\n",
        "def a_star(cube):\n",
        "    rows, cols = len(cube), len(cube[0])\n",
        "    start, goal = (0, 0), (rows - 1, cols - 1)\n",
        "    pq = [(0, start, [start], 0)]\n",
        "    visited = {}\n",
        "\n",
        "    while pq:\n",
        "        cost, (x, y), path, jumps = heapq.heappop(pq)\n",
        "\n",
        "        if (x, y) == goal:\n",
        "            return path\n",
        "\n",
        "        if (x, y) in visited and visited[(x, y)] <= jumps:\n",
        "            continue\n",
        "\n",
        "        visited[(x, y)] = jumps\n",
        "\n",
        "        for dx, dy in [(-1, 0), (1, 0), (0, -1), (0, 1)]:\n",
        "            nx, ny = x + dx, y + dy\n",
        "            if 0 <= nx < rows and 0 <= ny < cols:\n",
        "                new_jumps = jumps + (1 if cube[nx][ny] == 2 else 0)\n",
        "                heapq.heappush(pq, (cost + 1 + heuristic((nx, ny), goal), (nx, ny), path + [(nx, ny)], new_jumps))\n",
        "\n",
        "    return -1\n",
        "\n",
        "cube = read_cube('cube.txt')\n",
        "print(\"BFS Path:\", bfs(cube))\n",
        "print(\"DFS Path:\", dfs(cube))\n",
        "print(\"A* Path:\", a_star(cube))\n"
      ]
    }
  ]
}