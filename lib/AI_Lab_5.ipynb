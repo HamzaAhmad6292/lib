{
  "nbformat": 4,
  "nbformat_minor": 0,
  "metadata": {
    "colab": {
      "provenance": []
    },
    "kernelspec": {
      "name": "python3",
      "display_name": "Python 3"
    },
    "language_info": {
      "name": "python"
    }
  },
  "cells": [
    {
      "cell_type": "code",
      "source": [
        "def dijkstra(graph, start):\n",
        "    # Initialize distances with infinity for all vertices except the start vertex\n",
        "    distances = {vertex: float('infinity') for vertex in graph}\n",
        "    distances[start] = 0\n",
        "\n",
        "    # Initialize previous vertices dictionary to reconstruct the path\n",
        "    previous = {vertex: None for vertex in graph}\n",
        "\n",
        "    unvisited = set(graph.keys())\n",
        "\n",
        "    while unvisited:\n",
        "        # Find the unvisited vertex with the smallest distance\n",
        "        current = min(unvisited, key=lambda vertex: distances[vertex])\n",
        "\n",
        "        # If the smallest distance is infinity, then remaining vertices are inaccessible\n",
        "        if distances[current] == float('infinity'):\n",
        "            break\n",
        "\n",
        "        unvisited.remove(current)\n",
        "\n",
        "        for neighbor, weight in graph[current].items():\n",
        "            distance = distances[current] + weight\n",
        "\n",
        "            if distance < distances[neighbor]:\n",
        "                distances[neighbor] = distance\n",
        "                previous[neighbor] = current\n",
        "\n",
        "    return distances, previous\n",
        "\n",
        "def reconstruct_path(previous, start, end):\n",
        "    path = []\n",
        "    current = end\n",
        "\n",
        "    if previous[end] is None and end != start:\n",
        "        return None\n",
        "\n",
        "    while current is not None:\n",
        "        path.append(current)\n",
        "        current = previous[current]\n",
        "\n",
        "    return path[::-1]\n",
        "\n",
        "# Assumption: The graph is directed in the image\n",
        "graph = {\n",
        "    'A': {'B': 20, 'D': 80, 'G': 90},\n",
        "    'B': {'F': 10},\n",
        "    'C': {'H': 20},\n",
        "    'D': {'C': 10, 'F': 40},\n",
        "    'E': {'B': 50, 'G': 30},\n",
        "    'F': {'C': 50},\n",
        "    'G': {'A': 20, 'D': 20},\n",
        "    'H': {}\n",
        "}\n",
        "\n",
        "start_vertex = 'A'\n",
        "distances, previous = dijkstra(graph, start_vertex)\n",
        "\n",
        "print(f\"Shortest distances from vertex {start_vertex}:\")\n",
        "for vertex in sorted(distances.keys()):\n",
        "    if vertex != start_vertex:\n",
        "        path = reconstruct_path(previous, start_vertex, vertex)\n",
        "        path_str = \" -> \".join(path) if path else \"No path exists\"\n",
        "        print(f\"To {vertex}: Distance = {distances[vertex]}, Path = {path_str}\")"
      ],
      "metadata": {
        "colab": {
          "base_uri": "https://localhost:8080/"
        },
        "id": "wyhfh_szYk-B",
        "outputId": "ca988d1c-12c0-4949-c10c-cac647080358"
      },
      "execution_count": 2,
      "outputs": [
        {
          "output_type": "stream",
          "name": "stdout",
          "text": [
            "Shortest distances from vertex A:\n",
            "To B: Distance = 20, Path = A -> B\n",
            "To C: Distance = 80, Path = A -> B -> F -> C\n",
            "To D: Distance = 80, Path = A -> D\n",
            "To E: Distance = inf, Path = No path exists\n",
            "To F: Distance = 30, Path = A -> B -> F\n",
            "To G: Distance = 90, Path = A -> G\n",
            "To H: Distance = 100, Path = A -> B -> F -> C -> H\n"
          ]
        }
      ]
    }
  ]
}